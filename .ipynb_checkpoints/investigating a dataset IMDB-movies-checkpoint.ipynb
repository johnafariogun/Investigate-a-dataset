{
 "cells": [
  {
   "cell_type": "markdown",
   "metadata": {},
   "source": [
    "# PROJECT: INVESTIGATE A IMDB-MOVIES\n",
    "## This is a dataset containing details on different characteristics of movies as compiled by a movies review site IMDB\n",
    "### The data has 10866 row entries all classified under 21 columns. The dataset contains information on the id, imdb_id, popularity, budget, revenue, original title, cast, homepage, director, tagline, keywords, overview, runtime, genres, production companies, release date, vote count,vote average, release year, budget adjustments, revenue adjustments.\n",
    "#### First importing the data and other relevant libraries required for it's analysis"
   ]
  },
  {
   "cell_type": "markdown",
   "metadata": {},
   "source": [
    "## TABLE OF CONTENTS\n",
    "<ul>\n",
    "<li><a href=\"#intro\">Introduction</a></li>\n",
    "<li><a href=\"#wrangling\">Data Wrangling</a></li>\n",
    "<li><a href=\"#eda\">Exploratory Data Analysis</a></li>\n",
    "<li><a href=\"#conclusions\">Conclusions</a></li>\n",
    "</ul>"
   ]
  },
  {
   "cell_type": "markdown",
   "metadata": {},
   "source": [
    "<a id='intro'></a>\n",
    "## Introduction\n",
    "\n",
    "### Dataset Description \n",
    "#### This is a dataset containing details on different characteristics of movies as compiled by a movies review site IMDB. The data has 10866 row entries all classified under 21 columns. The dataset contains information on the id, imdb_id, popularity, budget, revenue, original title, cast, homepage, director, tagline, keywords, overview, runtime, genres, production companies, release date, vote count,vote average, release year, budget adjustments, revenue adjustments.\n",
    "\n",
    "\n",
    "\n",
    "\n"
   ]
  },
  {
   "cell_type": "markdown",
   "metadata": {},
   "source": [
    "\n",
    "\n",
    "### I would like to answer the following questions from the dataset:\n",
    "<ol>\n",
    "    <li><a href=\"#q1\">what genres had the most movies the years</a></li>\n",
    "    <li><a href=\"#q2\">how many different actors were present in the movies and how many movies did they act in</a></li>\n",
    "    <li><a href=\"#q3\">which movies made the most revenue and how popular were they</a></li>\n",
    "    <li><a href=\"#q4\">what effect does runtime have on a movies popularity</a></li>\n",
    "    <li><a href=\"#q5\">what movies turned up the most profit and how popular were they</a></li>\n",
    "    <li><a href=\"#q6\">there are some movies with 0 budget did they turn up a profit and did any movie at all turn up a loss</a></li>\n",
    "    <li><a href=\"#q7\">effect of vote counts on popularity and profit</a></li>\n",
    "</ol>\n",
    "\n",
    " Before answering these questions though there are some columns that are not needed like the tagline, homepage and overview, so removing this column from our dataset, we do this in our data wrangling process.\n",
    " #### But first importing the data and other relevant libraries required for it's analysis"
   ]
  },
  {
   "cell_type": "code",
   "execution_count": 1,
   "metadata": {},
   "outputs": [],
   "source": [
    "import pandas as pd\n",
    "import matplotlib.pyplot as plt\n",
    "import numpy as np\n",
    "df = pd.read_csv('tmdb-movies.csv').sort_values('release_year')"
   ]
  },
  {
   "cell_type": "markdown",
   "metadata": {},
   "source": [
    "## sorting our data based on year and taking a look at the first and last five rows of the data set.\n",
    "The .head() method is used to call the first 5 rows of the dataset while the .tail() the last 5 rows of the dataset"
   ]
  },
  {
   "cell_type": "code",
   "execution_count": 2,
   "metadata": {},
   "outputs": [
    {
     "data": {
      "text/html": [
       "<div>\n",
       "<style scoped>\n",
       "    .dataframe tbody tr th:only-of-type {\n",
       "        vertical-align: middle;\n",
       "    }\n",
       "\n",
       "    .dataframe tbody tr th {\n",
       "        vertical-align: top;\n",
       "    }\n",
       "\n",
       "    .dataframe thead th {\n",
       "        text-align: right;\n",
       "    }\n",
       "</style>\n",
       "<table border=\"1\" class=\"dataframe\">\n",
       "  <thead>\n",
       "    <tr style=\"text-align: right;\">\n",
       "      <th></th>\n",
       "      <th>id</th>\n",
       "      <th>imdb_id</th>\n",
       "      <th>popularity</th>\n",
       "      <th>budget</th>\n",
       "      <th>revenue</th>\n",
       "      <th>original_title</th>\n",
       "      <th>cast</th>\n",
       "      <th>homepage</th>\n",
       "      <th>director</th>\n",
       "      <th>tagline</th>\n",
       "      <th>...</th>\n",
       "      <th>overview</th>\n",
       "      <th>runtime</th>\n",
       "      <th>genres</th>\n",
       "      <th>production_companies</th>\n",
       "      <th>release_date</th>\n",
       "      <th>vote_count</th>\n",
       "      <th>vote_average</th>\n",
       "      <th>release_year</th>\n",
       "      <th>budget_adj</th>\n",
       "      <th>revenue_adj</th>\n",
       "    </tr>\n",
       "  </thead>\n",
       "  <tbody>\n",
       "    <tr>\n",
       "      <td>10172</td>\n",
       "      <td>1941</td>\n",
       "      <td>tt0053804</td>\n",
       "      <td>0.256779</td>\n",
       "      <td>0</td>\n",
       "      <td>0</td>\n",
       "      <td>Exodus</td>\n",
       "      <td>Paul Newman|Eva Marie Saint|Lee J. Cobb|Ralph ...</td>\n",
       "      <td>NaN</td>\n",
       "      <td>Otto Preminger</td>\n",
       "      <td>NaN</td>\n",
       "      <td>...</td>\n",
       "      <td>The theme is the founding of the state of Isra...</td>\n",
       "      <td>208</td>\n",
       "      <td>Action|Drama|History|War</td>\n",
       "      <td>Carlyle Productions</td>\n",
       "      <td>3/27/60</td>\n",
       "      <td>14</td>\n",
       "      <td>6.1</td>\n",
       "      <td>1960</td>\n",
       "      <td>0.000000e+00</td>\n",
       "      <td>0.000000e+00</td>\n",
       "    </tr>\n",
       "    <tr>\n",
       "      <td>10141</td>\n",
       "      <td>539</td>\n",
       "      <td>tt0054215</td>\n",
       "      <td>2.610362</td>\n",
       "      <td>806948</td>\n",
       "      <td>32000000</td>\n",
       "      <td>Psycho</td>\n",
       "      <td>Anthony Perkins|Vera Miles|John Gavin|Janet Le...</td>\n",
       "      <td>NaN</td>\n",
       "      <td>Alfred Hitchcock</td>\n",
       "      <td>The master of suspense moves his cameras into ...</td>\n",
       "      <td>...</td>\n",
       "      <td>When larcenous real estate clerk Marion Crane ...</td>\n",
       "      <td>109</td>\n",
       "      <td>Drama|Horror|Thriller</td>\n",
       "      <td>Shamley Productions</td>\n",
       "      <td>8/14/60</td>\n",
       "      <td>1180</td>\n",
       "      <td>8.0</td>\n",
       "      <td>1960</td>\n",
       "      <td>5.949601e+06</td>\n",
       "      <td>2.359350e+08</td>\n",
       "    </tr>\n",
       "    <tr>\n",
       "      <td>10142</td>\n",
       "      <td>966</td>\n",
       "      <td>tt0054047</td>\n",
       "      <td>1.872132</td>\n",
       "      <td>2000000</td>\n",
       "      <td>4905000</td>\n",
       "      <td>The Magnificent Seven</td>\n",
       "      <td>Yul Brynner|Eli Wallach|Steve McQueen|Charles ...</td>\n",
       "      <td>NaN</td>\n",
       "      <td>John Sturges</td>\n",
       "      <td>They were seven - And they fought like seven h...</td>\n",
       "      <td>...</td>\n",
       "      <td>An oppressed Mexican peasant village hires sev...</td>\n",
       "      <td>128</td>\n",
       "      <td>Action|Adventure|Western</td>\n",
       "      <td>The Mirisch Corporation|Alpha Productions</td>\n",
       "      <td>10/23/60</td>\n",
       "      <td>224</td>\n",
       "      <td>7.0</td>\n",
       "      <td>1960</td>\n",
       "      <td>1.474593e+07</td>\n",
       "      <td>3.616441e+07</td>\n",
       "    </tr>\n",
       "    <tr>\n",
       "      <td>10143</td>\n",
       "      <td>967</td>\n",
       "      <td>tt0054331</td>\n",
       "      <td>1.136943</td>\n",
       "      <td>12000000</td>\n",
       "      <td>60000000</td>\n",
       "      <td>Spartacus</td>\n",
       "      <td>Kirk Douglas|Laurence Olivier|Jean Simmons|Cha...</td>\n",
       "      <td>NaN</td>\n",
       "      <td>Stanley Kubrick</td>\n",
       "      <td>More titanic than any story ever told!</td>\n",
       "      <td>...</td>\n",
       "      <td>Spartacus is a 1960 American historical drama ...</td>\n",
       "      <td>197</td>\n",
       "      <td>Action|Drama|History</td>\n",
       "      <td>Bryna Productions</td>\n",
       "      <td>10/6/60</td>\n",
       "      <td>211</td>\n",
       "      <td>6.9</td>\n",
       "      <td>1960</td>\n",
       "      <td>8.847561e+07</td>\n",
       "      <td>4.423780e+08</td>\n",
       "    </tr>\n",
       "    <tr>\n",
       "      <td>10144</td>\n",
       "      <td>284</td>\n",
       "      <td>tt0053604</td>\n",
       "      <td>0.947307</td>\n",
       "      <td>3000000</td>\n",
       "      <td>25000000</td>\n",
       "      <td>The Apartment</td>\n",
       "      <td>Jack Lemmon|Shirley MacLaine|Fred MacMurray|Ra...</td>\n",
       "      <td>NaN</td>\n",
       "      <td>Billy Wilder</td>\n",
       "      <td>Movie-wise, there has never been anything like...</td>\n",
       "      <td>...</td>\n",
       "      <td>Bud Baxter is a minor clerk in a huge New York...</td>\n",
       "      <td>125</td>\n",
       "      <td>Comedy|Drama|Romance</td>\n",
       "      <td>United Artists|The Mirisch Company</td>\n",
       "      <td>6/15/60</td>\n",
       "      <td>235</td>\n",
       "      <td>7.9</td>\n",
       "      <td>1960</td>\n",
       "      <td>2.211890e+07</td>\n",
       "      <td>1.843242e+08</td>\n",
       "    </tr>\n",
       "  </tbody>\n",
       "</table>\n",
       "<p>5 rows × 21 columns</p>\n",
       "</div>"
      ],
      "text/plain": [
       "         id    imdb_id  popularity    budget   revenue         original_title  \\\n",
       "10172  1941  tt0053804    0.256779         0         0                 Exodus   \n",
       "10141   539  tt0054215    2.610362    806948  32000000                 Psycho   \n",
       "10142   966  tt0054047    1.872132   2000000   4905000  The Magnificent Seven   \n",
       "10143   967  tt0054331    1.136943  12000000  60000000              Spartacus   \n",
       "10144   284  tt0053604    0.947307   3000000  25000000          The Apartment   \n",
       "\n",
       "                                                    cast homepage  \\\n",
       "10172  Paul Newman|Eva Marie Saint|Lee J. Cobb|Ralph ...      NaN   \n",
       "10141  Anthony Perkins|Vera Miles|John Gavin|Janet Le...      NaN   \n",
       "10142  Yul Brynner|Eli Wallach|Steve McQueen|Charles ...      NaN   \n",
       "10143  Kirk Douglas|Laurence Olivier|Jean Simmons|Cha...      NaN   \n",
       "10144  Jack Lemmon|Shirley MacLaine|Fred MacMurray|Ra...      NaN   \n",
       "\n",
       "               director                                            tagline  \\\n",
       "10172    Otto Preminger                                                NaN   \n",
       "10141  Alfred Hitchcock  The master of suspense moves his cameras into ...   \n",
       "10142      John Sturges  They were seven - And they fought like seven h...   \n",
       "10143   Stanley Kubrick             More titanic than any story ever told!   \n",
       "10144      Billy Wilder  Movie-wise, there has never been anything like...   \n",
       "\n",
       "       ...                                           overview runtime  \\\n",
       "10172  ...  The theme is the founding of the state of Isra...     208   \n",
       "10141  ...  When larcenous real estate clerk Marion Crane ...     109   \n",
       "10142  ...  An oppressed Mexican peasant village hires sev...     128   \n",
       "10143  ...  Spartacus is a 1960 American historical drama ...     197   \n",
       "10144  ...  Bud Baxter is a minor clerk in a huge New York...     125   \n",
       "\n",
       "                         genres                       production_companies  \\\n",
       "10172  Action|Drama|History|War                        Carlyle Productions   \n",
       "10141     Drama|Horror|Thriller                        Shamley Productions   \n",
       "10142  Action|Adventure|Western  The Mirisch Corporation|Alpha Productions   \n",
       "10143      Action|Drama|History                          Bryna Productions   \n",
       "10144      Comedy|Drama|Romance         United Artists|The Mirisch Company   \n",
       "\n",
       "      release_date vote_count  vote_average  release_year    budget_adj  \\\n",
       "10172      3/27/60         14           6.1          1960  0.000000e+00   \n",
       "10141      8/14/60       1180           8.0          1960  5.949601e+06   \n",
       "10142     10/23/60        224           7.0          1960  1.474593e+07   \n",
       "10143      10/6/60        211           6.9          1960  8.847561e+07   \n",
       "10144      6/15/60        235           7.9          1960  2.211890e+07   \n",
       "\n",
       "        revenue_adj  \n",
       "10172  0.000000e+00  \n",
       "10141  2.359350e+08  \n",
       "10142  3.616441e+07  \n",
       "10143  4.423780e+08  \n",
       "10144  1.843242e+08  \n",
       "\n",
       "[5 rows x 21 columns]"
      ]
     },
     "execution_count": 2,
     "metadata": {},
     "output_type": "execute_result"
    }
   ],
   "source": [
    "df.head()"
   ]
  },
  {
   "cell_type": "code",
   "execution_count": 3,
   "metadata": {},
   "outputs": [
    {
     "data": {
      "text/html": [
       "<div>\n",
       "<style scoped>\n",
       "    .dataframe tbody tr th:only-of-type {\n",
       "        vertical-align: middle;\n",
       "    }\n",
       "\n",
       "    .dataframe tbody tr th {\n",
       "        vertical-align: top;\n",
       "    }\n",
       "\n",
       "    .dataframe thead th {\n",
       "        text-align: right;\n",
       "    }\n",
       "</style>\n",
       "<table border=\"1\" class=\"dataframe\">\n",
       "  <thead>\n",
       "    <tr style=\"text-align: right;\">\n",
       "      <th></th>\n",
       "      <th>id</th>\n",
       "      <th>imdb_id</th>\n",
       "      <th>popularity</th>\n",
       "      <th>budget</th>\n",
       "      <th>revenue</th>\n",
       "      <th>original_title</th>\n",
       "      <th>cast</th>\n",
       "      <th>homepage</th>\n",
       "      <th>director</th>\n",
       "      <th>tagline</th>\n",
       "      <th>...</th>\n",
       "      <th>overview</th>\n",
       "      <th>runtime</th>\n",
       "      <th>genres</th>\n",
       "      <th>production_companies</th>\n",
       "      <th>release_date</th>\n",
       "      <th>vote_count</th>\n",
       "      <th>vote_average</th>\n",
       "      <th>release_year</th>\n",
       "      <th>budget_adj</th>\n",
       "      <th>revenue_adj</th>\n",
       "    </tr>\n",
       "  </thead>\n",
       "  <tbody>\n",
       "    <tr>\n",
       "      <td>417</td>\n",
       "      <td>326284</td>\n",
       "      <td>tt3488328</td>\n",
       "      <td>0.248280</td>\n",
       "      <td>7500000</td>\n",
       "      <td>0</td>\n",
       "      <td>Pound of Flesh</td>\n",
       "      <td>Jean-Claude Van Damme|John Ralston|Darren Shah...</td>\n",
       "      <td>NaN</td>\n",
       "      <td>Ernie Barbarash</td>\n",
       "      <td>The black market is about to get bloody</td>\n",
       "      <td>...</td>\n",
       "      <td>In China to donate his kidney to his dying nie...</td>\n",
       "      <td>104</td>\n",
       "      <td>Action</td>\n",
       "      <td>Odyssey Media|Rodin Entertainment|Ace Film Com...</td>\n",
       "      <td>5/7/15</td>\n",
       "      <td>42</td>\n",
       "      <td>5.4</td>\n",
       "      <td>2015</td>\n",
       "      <td>6.899997e+06</td>\n",
       "      <td>0.000000e+00</td>\n",
       "    </tr>\n",
       "    <tr>\n",
       "      <td>416</td>\n",
       "      <td>347754</td>\n",
       "      <td>tt3212904</td>\n",
       "      <td>0.248964</td>\n",
       "      <td>0</td>\n",
       "      <td>0</td>\n",
       "      <td>Curve</td>\n",
       "      <td>Julianne Hough|Teddy Sears|Madalyn Horcher|Dre...</td>\n",
       "      <td>NaN</td>\n",
       "      <td>Iain Softley</td>\n",
       "      <td>NaN</td>\n",
       "      <td>...</td>\n",
       "      <td>A young woman becomes trapped in her car after...</td>\n",
       "      <td>86</td>\n",
       "      <td>Horror|Thriller</td>\n",
       "      <td>Universal Pictures|Blumhouse Productions|LBI E...</td>\n",
       "      <td>8/31/15</td>\n",
       "      <td>40</td>\n",
       "      <td>4.4</td>\n",
       "      <td>2015</td>\n",
       "      <td>0.000000e+00</td>\n",
       "      <td>0.000000e+00</td>\n",
       "    </tr>\n",
       "    <tr>\n",
       "      <td>415</td>\n",
       "      <td>340968</td>\n",
       "      <td>tt2492296</td>\n",
       "      <td>0.249595</td>\n",
       "      <td>0</td>\n",
       "      <td>0</td>\n",
       "      <td>Show Me a Hero</td>\n",
       "      <td>Oscar Isaac|Alfred Molina|Winona Ryder|Catheri...</td>\n",
       "      <td>NaN</td>\n",
       "      <td>Paul Haggis</td>\n",
       "      <td>How does a politician know he's doing the righ...</td>\n",
       "      <td>...</td>\n",
       "      <td>Mayor Nick Wasicsko took office in 1987 during...</td>\n",
       "      <td>300</td>\n",
       "      <td>History|Crime|Drama</td>\n",
       "      <td>NaN</td>\n",
       "      <td>8/16/15</td>\n",
       "      <td>32</td>\n",
       "      <td>7.7</td>\n",
       "      <td>2015</td>\n",
       "      <td>0.000000e+00</td>\n",
       "      <td>0.000000e+00</td>\n",
       "    </tr>\n",
       "    <tr>\n",
       "      <td>422</td>\n",
       "      <td>309425</td>\n",
       "      <td>tt4056738</td>\n",
       "      <td>0.245948</td>\n",
       "      <td>0</td>\n",
       "      <td>0</td>\n",
       "      <td>Do You Believe?</td>\n",
       "      <td>Mira Sorvino|Sean Astin|Alexa PenaVega|Cybill ...</td>\n",
       "      <td>NaN</td>\n",
       "      <td>Jonathan M. Gunn</td>\n",
       "      <td>NaN</td>\n",
       "      <td>...</td>\n",
       "      <td>When a pastor is shaken by the visible faith o...</td>\n",
       "      <td>115</td>\n",
       "      <td>Fantasy|Drama</td>\n",
       "      <td>Believe Entertainment|Pure Flix Entertainment|...</td>\n",
       "      <td>3/20/15</td>\n",
       "      <td>30</td>\n",
       "      <td>7.4</td>\n",
       "      <td>2015</td>\n",
       "      <td>0.000000e+00</td>\n",
       "      <td>0.000000e+00</td>\n",
       "    </tr>\n",
       "    <tr>\n",
       "      <td>0</td>\n",
       "      <td>135397</td>\n",
       "      <td>tt0369610</td>\n",
       "      <td>32.985763</td>\n",
       "      <td>150000000</td>\n",
       "      <td>1513528810</td>\n",
       "      <td>Jurassic World</td>\n",
       "      <td>Chris Pratt|Bryce Dallas Howard|Irrfan Khan|Vi...</td>\n",
       "      <td>http://www.jurassicworld.com/</td>\n",
       "      <td>Colin Trevorrow</td>\n",
       "      <td>The park is open.</td>\n",
       "      <td>...</td>\n",
       "      <td>Twenty-two years after the events of Jurassic ...</td>\n",
       "      <td>124</td>\n",
       "      <td>Action|Adventure|Science Fiction|Thriller</td>\n",
       "      <td>Universal Studios|Amblin Entertainment|Legenda...</td>\n",
       "      <td>6/9/15</td>\n",
       "      <td>5562</td>\n",
       "      <td>6.5</td>\n",
       "      <td>2015</td>\n",
       "      <td>1.379999e+08</td>\n",
       "      <td>1.392446e+09</td>\n",
       "    </tr>\n",
       "  </tbody>\n",
       "</table>\n",
       "<p>5 rows × 21 columns</p>\n",
       "</div>"
      ],
      "text/plain": [
       "         id    imdb_id  popularity     budget     revenue   original_title  \\\n",
       "417  326284  tt3488328    0.248280    7500000           0   Pound of Flesh   \n",
       "416  347754  tt3212904    0.248964          0           0            Curve   \n",
       "415  340968  tt2492296    0.249595          0           0   Show Me a Hero   \n",
       "422  309425  tt4056738    0.245948          0           0  Do You Believe?   \n",
       "0    135397  tt0369610   32.985763  150000000  1513528810   Jurassic World   \n",
       "\n",
       "                                                  cast  \\\n",
       "417  Jean-Claude Van Damme|John Ralston|Darren Shah...   \n",
       "416  Julianne Hough|Teddy Sears|Madalyn Horcher|Dre...   \n",
       "415  Oscar Isaac|Alfred Molina|Winona Ryder|Catheri...   \n",
       "422  Mira Sorvino|Sean Astin|Alexa PenaVega|Cybill ...   \n",
       "0    Chris Pratt|Bryce Dallas Howard|Irrfan Khan|Vi...   \n",
       "\n",
       "                          homepage          director  \\\n",
       "417                            NaN   Ernie Barbarash   \n",
       "416                            NaN      Iain Softley   \n",
       "415                            NaN       Paul Haggis   \n",
       "422                            NaN  Jonathan M. Gunn   \n",
       "0    http://www.jurassicworld.com/   Colin Trevorrow   \n",
       "\n",
       "                                               tagline  ...  \\\n",
       "417            The black market is about to get bloody  ...   \n",
       "416                                                NaN  ...   \n",
       "415  How does a politician know he's doing the righ...  ...   \n",
       "422                                                NaN  ...   \n",
       "0                                    The park is open.  ...   \n",
       "\n",
       "                                              overview runtime  \\\n",
       "417  In China to donate his kidney to his dying nie...     104   \n",
       "416  A young woman becomes trapped in her car after...      86   \n",
       "415  Mayor Nick Wasicsko took office in 1987 during...     300   \n",
       "422  When a pastor is shaken by the visible faith o...     115   \n",
       "0    Twenty-two years after the events of Jurassic ...     124   \n",
       "\n",
       "                                        genres  \\\n",
       "417                                     Action   \n",
       "416                            Horror|Thriller   \n",
       "415                        History|Crime|Drama   \n",
       "422                              Fantasy|Drama   \n",
       "0    Action|Adventure|Science Fiction|Thriller   \n",
       "\n",
       "                                  production_companies release_date  \\\n",
       "417  Odyssey Media|Rodin Entertainment|Ace Film Com...       5/7/15   \n",
       "416  Universal Pictures|Blumhouse Productions|LBI E...      8/31/15   \n",
       "415                                                NaN      8/16/15   \n",
       "422  Believe Entertainment|Pure Flix Entertainment|...      3/20/15   \n",
       "0    Universal Studios|Amblin Entertainment|Legenda...       6/9/15   \n",
       "\n",
       "    vote_count  vote_average  release_year    budget_adj   revenue_adj  \n",
       "417         42           5.4          2015  6.899997e+06  0.000000e+00  \n",
       "416         40           4.4          2015  0.000000e+00  0.000000e+00  \n",
       "415         32           7.7          2015  0.000000e+00  0.000000e+00  \n",
       "422         30           7.4          2015  0.000000e+00  0.000000e+00  \n",
       "0         5562           6.5          2015  1.379999e+08  1.392446e+09  \n",
       "\n",
       "[5 rows x 21 columns]"
      ]
     },
     "execution_count": 3,
     "metadata": {},
     "output_type": "execute_result"
    }
   ],
   "source": [
    "df.tail()"
   ]
  },
  {
   "cell_type": "markdown",
   "metadata": {},
   "source": [
    "Next we take a look at the datatypes present in our dataset uaing the .info() method"
   ]
  },
  {
   "cell_type": "code",
   "execution_count": 4,
   "metadata": {},
   "outputs": [
    {
     "name": "stdout",
     "output_type": "stream",
     "text": [
      "<class 'pandas.core.frame.DataFrame'>\n",
      "Int64Index: 10866 entries, 10172 to 0\n",
      "Data columns (total 21 columns):\n",
      "id                      10866 non-null int64\n",
      "imdb_id                 10856 non-null object\n",
      "popularity              10866 non-null float64\n",
      "budget                  10866 non-null int64\n",
      "revenue                 10866 non-null int64\n",
      "original_title          10866 non-null object\n",
      "cast                    10790 non-null object\n",
      "homepage                2936 non-null object\n",
      "director                10822 non-null object\n",
      "tagline                 8042 non-null object\n",
      "keywords                9373 non-null object\n",
      "overview                10862 non-null object\n",
      "runtime                 10866 non-null int64\n",
      "genres                  10843 non-null object\n",
      "production_companies    9836 non-null object\n",
      "release_date            10866 non-null object\n",
      "vote_count              10866 non-null int64\n",
      "vote_average            10866 non-null float64\n",
      "release_year            10866 non-null int64\n",
      "budget_adj              10866 non-null float64\n",
      "revenue_adj             10866 non-null float64\n",
      "dtypes: float64(4), int64(6), object(11)\n",
      "memory usage: 1.8+ MB\n"
     ]
    }
   ],
   "source": [
    "df.info()"
   ]
  },
  {
   "cell_type": "markdown",
   "metadata": {},
   "source": [
    "Then checking for the total amount of rows and columns our dataset contains using the .shape() method"
   ]
  },
  {
   "cell_type": "code",
   "execution_count": 5,
   "metadata": {},
   "outputs": [
    {
     "name": "stdout",
     "output_type": "stream",
     "text": [
      "your dataset contains 10866 rows and 21 columns.\n"
     ]
    }
   ],
   "source": [
    "print('your dataset contains {} rows and {} columns.'.format(df.shape[0], df.shape[1]))"
   ]
  },
  {
   "cell_type": "markdown",
   "metadata": {},
   "source": [
    "<a id='wrangling'></a>\n",
    "## Data Wrangling\n",
    "\n",
    "### Next cleaning the dataset by checking for missing values and duplicates in our dataset and removing them, converting columns to the right format and dropping columns which are not relevant to our analysis\n",
    "This is done using the .drop(), .describe() and .query() methods to mention a few"
   ]
  },
  {
   "cell_type": "code",
   "execution_count": 6,
   "metadata": {},
   "outputs": [],
   "source": [
    "df.drop(['tagline', 'homepage', 'overview', 'keywords','id'], axis=1, inplace = True)"
   ]
  },
  {
   "cell_type": "markdown",
   "metadata": {},
   "source": [
    "converting the release_date column to datetime format for better code readability "
   ]
  },
  {
   "cell_type": "code",
   "execution_count": 7,
   "metadata": {},
   "outputs": [
    {
     "data": {
      "text/plain": [
       "10172   2060-03-27\n",
       "10141   2060-08-14\n",
       "10142   2060-10-23\n",
       "10143   2060-10-06\n",
       "10144   2060-06-15\n",
       "           ...    \n",
       "417     2015-05-07\n",
       "416     2015-08-31\n",
       "415     2015-08-16\n",
       "422     2015-03-20\n",
       "0       2015-06-09\n",
       "Name: release_date, Length: 10866, dtype: datetime64[ns]"
      ]
     },
     "execution_count": 7,
     "metadata": {},
     "output_type": "execute_result"
    }
   ],
   "source": [
    "df['release_date'] = pd.to_datetime(df['release_date'], format='%m/%d/%y')\n",
    "df['release_date']"
   ]
  },
  {
   "cell_type": "code",
   "execution_count": 8,
   "metadata": {},
   "outputs": [
    {
     "data": {
      "text/html": [
       "<div>\n",
       "<style scoped>\n",
       "    .dataframe tbody tr th:only-of-type {\n",
       "        vertical-align: middle;\n",
       "    }\n",
       "\n",
       "    .dataframe tbody tr th {\n",
       "        vertical-align: top;\n",
       "    }\n",
       "\n",
       "    .dataframe thead th {\n",
       "        text-align: right;\n",
       "    }\n",
       "</style>\n",
       "<table border=\"1\" class=\"dataframe\">\n",
       "  <thead>\n",
       "    <tr style=\"text-align: right;\">\n",
       "      <th></th>\n",
       "      <th>popularity</th>\n",
       "      <th>budget</th>\n",
       "      <th>revenue</th>\n",
       "      <th>runtime</th>\n",
       "      <th>vote_count</th>\n",
       "      <th>vote_average</th>\n",
       "      <th>release_year</th>\n",
       "      <th>budget_adj</th>\n",
       "      <th>revenue_adj</th>\n",
       "    </tr>\n",
       "  </thead>\n",
       "  <tbody>\n",
       "    <tr>\n",
       "      <td>count</td>\n",
       "      <td>10866.000000</td>\n",
       "      <td>1.086600e+04</td>\n",
       "      <td>1.086600e+04</td>\n",
       "      <td>10866.000000</td>\n",
       "      <td>10866.000000</td>\n",
       "      <td>10866.000000</td>\n",
       "      <td>10866.000000</td>\n",
       "      <td>1.086600e+04</td>\n",
       "      <td>1.086600e+04</td>\n",
       "    </tr>\n",
       "    <tr>\n",
       "      <td>mean</td>\n",
       "      <td>0.646441</td>\n",
       "      <td>1.462570e+07</td>\n",
       "      <td>3.982332e+07</td>\n",
       "      <td>102.070863</td>\n",
       "      <td>217.389748</td>\n",
       "      <td>5.974922</td>\n",
       "      <td>2001.322658</td>\n",
       "      <td>1.755104e+07</td>\n",
       "      <td>5.136436e+07</td>\n",
       "    </tr>\n",
       "    <tr>\n",
       "      <td>std</td>\n",
       "      <td>1.000185</td>\n",
       "      <td>3.091321e+07</td>\n",
       "      <td>1.170035e+08</td>\n",
       "      <td>31.381405</td>\n",
       "      <td>575.619058</td>\n",
       "      <td>0.935142</td>\n",
       "      <td>12.812941</td>\n",
       "      <td>3.430616e+07</td>\n",
       "      <td>1.446325e+08</td>\n",
       "    </tr>\n",
       "    <tr>\n",
       "      <td>min</td>\n",
       "      <td>0.000065</td>\n",
       "      <td>0.000000e+00</td>\n",
       "      <td>0.000000e+00</td>\n",
       "      <td>0.000000</td>\n",
       "      <td>10.000000</td>\n",
       "      <td>1.500000</td>\n",
       "      <td>1960.000000</td>\n",
       "      <td>0.000000e+00</td>\n",
       "      <td>0.000000e+00</td>\n",
       "    </tr>\n",
       "    <tr>\n",
       "      <td>25%</td>\n",
       "      <td>0.207583</td>\n",
       "      <td>0.000000e+00</td>\n",
       "      <td>0.000000e+00</td>\n",
       "      <td>90.000000</td>\n",
       "      <td>17.000000</td>\n",
       "      <td>5.400000</td>\n",
       "      <td>1995.000000</td>\n",
       "      <td>0.000000e+00</td>\n",
       "      <td>0.000000e+00</td>\n",
       "    </tr>\n",
       "    <tr>\n",
       "      <td>50%</td>\n",
       "      <td>0.383856</td>\n",
       "      <td>0.000000e+00</td>\n",
       "      <td>0.000000e+00</td>\n",
       "      <td>99.000000</td>\n",
       "      <td>38.000000</td>\n",
       "      <td>6.000000</td>\n",
       "      <td>2006.000000</td>\n",
       "      <td>0.000000e+00</td>\n",
       "      <td>0.000000e+00</td>\n",
       "    </tr>\n",
       "    <tr>\n",
       "      <td>75%</td>\n",
       "      <td>0.713817</td>\n",
       "      <td>1.500000e+07</td>\n",
       "      <td>2.400000e+07</td>\n",
       "      <td>111.000000</td>\n",
       "      <td>145.750000</td>\n",
       "      <td>6.600000</td>\n",
       "      <td>2011.000000</td>\n",
       "      <td>2.085325e+07</td>\n",
       "      <td>3.369710e+07</td>\n",
       "    </tr>\n",
       "    <tr>\n",
       "      <td>max</td>\n",
       "      <td>32.985763</td>\n",
       "      <td>4.250000e+08</td>\n",
       "      <td>2.781506e+09</td>\n",
       "      <td>900.000000</td>\n",
       "      <td>9767.000000</td>\n",
       "      <td>9.200000</td>\n",
       "      <td>2015.000000</td>\n",
       "      <td>4.250000e+08</td>\n",
       "      <td>2.827124e+09</td>\n",
       "    </tr>\n",
       "  </tbody>\n",
       "</table>\n",
       "</div>"
      ],
      "text/plain": [
       "         popularity        budget       revenue       runtime    vote_count  \\\n",
       "count  10866.000000  1.086600e+04  1.086600e+04  10866.000000  10866.000000   \n",
       "mean       0.646441  1.462570e+07  3.982332e+07    102.070863    217.389748   \n",
       "std        1.000185  3.091321e+07  1.170035e+08     31.381405    575.619058   \n",
       "min        0.000065  0.000000e+00  0.000000e+00      0.000000     10.000000   \n",
       "25%        0.207583  0.000000e+00  0.000000e+00     90.000000     17.000000   \n",
       "50%        0.383856  0.000000e+00  0.000000e+00     99.000000     38.000000   \n",
       "75%        0.713817  1.500000e+07  2.400000e+07    111.000000    145.750000   \n",
       "max       32.985763  4.250000e+08  2.781506e+09    900.000000   9767.000000   \n",
       "\n",
       "       vote_average  release_year    budget_adj   revenue_adj  \n",
       "count  10866.000000  10866.000000  1.086600e+04  1.086600e+04  \n",
       "mean       5.974922   2001.322658  1.755104e+07  5.136436e+07  \n",
       "std        0.935142     12.812941  3.430616e+07  1.446325e+08  \n",
       "min        1.500000   1960.000000  0.000000e+00  0.000000e+00  \n",
       "25%        5.400000   1995.000000  0.000000e+00  0.000000e+00  \n",
       "50%        6.000000   2006.000000  0.000000e+00  0.000000e+00  \n",
       "75%        6.600000   2011.000000  2.085325e+07  3.369710e+07  \n",
       "max        9.200000   2015.000000  4.250000e+08  2.827124e+09  "
      ]
     },
     "execution_count": 8,
     "metadata": {},
     "output_type": "execute_result"
    }
   ],
   "source": [
    "df.describe()"
   ]
  },
  {
   "cell_type": "code",
   "execution_count": 9,
   "metadata": {},
   "outputs": [],
   "source": [
    "df= df.query('popularity<=10')"
   ]
  },
  {
   "cell_type": "code",
   "execution_count": 10,
   "metadata": {},
   "outputs": [
    {
     "name": "stdout",
     "output_type": "stream",
     "text": [
      "<class 'pandas.core.frame.DataFrame'>\n",
      "Int64Index: 10855 entries, 10172 to 422\n",
      "Data columns (total 16 columns):\n",
      "imdb_id                 10845 non-null object\n",
      "popularity              10855 non-null float64\n",
      "budget                  10855 non-null int64\n",
      "revenue                 10855 non-null int64\n",
      "original_title          10855 non-null object\n",
      "cast                    10779 non-null object\n",
      "director                10811 non-null object\n",
      "runtime                 10855 non-null int64\n",
      "genres                  10832 non-null object\n",
      "production_companies    9825 non-null object\n",
      "release_date            10855 non-null datetime64[ns]\n",
      "vote_count              10855 non-null int64\n",
      "vote_average            10855 non-null float64\n",
      "release_year            10855 non-null int64\n",
      "budget_adj              10855 non-null float64\n",
      "revenue_adj             10855 non-null float64\n",
      "dtypes: datetime64[ns](1), float64(4), int64(5), object(6)\n",
      "memory usage: 1.4+ MB\n"
     ]
    }
   ],
   "source": [
    "df.info()"
   ]
  },
  {
   "cell_type": "code",
   "execution_count": 11,
   "metadata": {},
   "outputs": [
    {
     "name": "stdout",
     "output_type": "stream",
     "text": [
      "The cleaned dataset contains 9759 rows and 16 columns.\n"
     ]
    }
   ],
   "source": [
    "df.drop_duplicates(inplace=True)\n",
    "sum(df.duplicated())\n",
    "df.dropna(inplace=True)\n",
    "print('The cleaned dataset contains {} rows and {} columns.'.format(df.shape[0], df.shape[1]))"
   ]
  },
  {
   "cell_type": "code",
   "execution_count": 12,
   "metadata": {},
   "outputs": [
    {
     "data": {
      "text/html": [
       "<div>\n",
       "<style scoped>\n",
       "    .dataframe tbody tr th:only-of-type {\n",
       "        vertical-align: middle;\n",
       "    }\n",
       "\n",
       "    .dataframe tbody tr th {\n",
       "        vertical-align: top;\n",
       "    }\n",
       "\n",
       "    .dataframe thead th {\n",
       "        text-align: right;\n",
       "    }\n",
       "</style>\n",
       "<table border=\"1\" class=\"dataframe\">\n",
       "  <thead>\n",
       "    <tr style=\"text-align: right;\">\n",
       "      <th></th>\n",
       "      <th>imdb_id</th>\n",
       "      <th>popularity</th>\n",
       "      <th>budget</th>\n",
       "      <th>revenue</th>\n",
       "      <th>original_title</th>\n",
       "      <th>cast</th>\n",
       "      <th>director</th>\n",
       "      <th>runtime</th>\n",
       "      <th>genres</th>\n",
       "      <th>production_companies</th>\n",
       "      <th>release_date</th>\n",
       "      <th>vote_count</th>\n",
       "      <th>vote_average</th>\n",
       "      <th>release_year</th>\n",
       "      <th>budget_adj</th>\n",
       "      <th>revenue_adj</th>\n",
       "    </tr>\n",
       "  </thead>\n",
       "  <tbody>\n",
       "    <tr>\n",
       "      <td>10172</td>\n",
       "      <td>tt0053804</td>\n",
       "      <td>0.256779</td>\n",
       "      <td>0</td>\n",
       "      <td>0</td>\n",
       "      <td>Exodus</td>\n",
       "      <td>Paul Newman|Eva Marie Saint|Lee J. Cobb|Ralph ...</td>\n",
       "      <td>Otto Preminger</td>\n",
       "      <td>208</td>\n",
       "      <td>Action|Drama|History|War</td>\n",
       "      <td>Carlyle Productions</td>\n",
       "      <td>2060-03-27</td>\n",
       "      <td>14</td>\n",
       "      <td>6.1</td>\n",
       "      <td>1960</td>\n",
       "      <td>0.000000e+00</td>\n",
       "      <td>0.000000e+00</td>\n",
       "    </tr>\n",
       "    <tr>\n",
       "      <td>10141</td>\n",
       "      <td>tt0054215</td>\n",
       "      <td>2.610362</td>\n",
       "      <td>806948</td>\n",
       "      <td>32000000</td>\n",
       "      <td>Psycho</td>\n",
       "      <td>Anthony Perkins|Vera Miles|John Gavin|Janet Le...</td>\n",
       "      <td>Alfred Hitchcock</td>\n",
       "      <td>109</td>\n",
       "      <td>Drama|Horror|Thriller</td>\n",
       "      <td>Shamley Productions</td>\n",
       "      <td>2060-08-14</td>\n",
       "      <td>1180</td>\n",
       "      <td>8.0</td>\n",
       "      <td>1960</td>\n",
       "      <td>5.949601e+06</td>\n",
       "      <td>2.359350e+08</td>\n",
       "    </tr>\n",
       "    <tr>\n",
       "      <td>10142</td>\n",
       "      <td>tt0054047</td>\n",
       "      <td>1.872132</td>\n",
       "      <td>2000000</td>\n",
       "      <td>4905000</td>\n",
       "      <td>The Magnificent Seven</td>\n",
       "      <td>Yul Brynner|Eli Wallach|Steve McQueen|Charles ...</td>\n",
       "      <td>John Sturges</td>\n",
       "      <td>128</td>\n",
       "      <td>Action|Adventure|Western</td>\n",
       "      <td>The Mirisch Corporation|Alpha Productions</td>\n",
       "      <td>2060-10-23</td>\n",
       "      <td>224</td>\n",
       "      <td>7.0</td>\n",
       "      <td>1960</td>\n",
       "      <td>1.474593e+07</td>\n",
       "      <td>3.616441e+07</td>\n",
       "    </tr>\n",
       "    <tr>\n",
       "      <td>10143</td>\n",
       "      <td>tt0054331</td>\n",
       "      <td>1.136943</td>\n",
       "      <td>12000000</td>\n",
       "      <td>60000000</td>\n",
       "      <td>Spartacus</td>\n",
       "      <td>Kirk Douglas|Laurence Olivier|Jean Simmons|Cha...</td>\n",
       "      <td>Stanley Kubrick</td>\n",
       "      <td>197</td>\n",
       "      <td>Action|Drama|History</td>\n",
       "      <td>Bryna Productions</td>\n",
       "      <td>2060-10-06</td>\n",
       "      <td>211</td>\n",
       "      <td>6.9</td>\n",
       "      <td>1960</td>\n",
       "      <td>8.847561e+07</td>\n",
       "      <td>4.423780e+08</td>\n",
       "    </tr>\n",
       "    <tr>\n",
       "      <td>10144</td>\n",
       "      <td>tt0053604</td>\n",
       "      <td>0.947307</td>\n",
       "      <td>3000000</td>\n",
       "      <td>25000000</td>\n",
       "      <td>The Apartment</td>\n",
       "      <td>Jack Lemmon|Shirley MacLaine|Fred MacMurray|Ra...</td>\n",
       "      <td>Billy Wilder</td>\n",
       "      <td>125</td>\n",
       "      <td>Comedy|Drama|Romance</td>\n",
       "      <td>United Artists|The Mirisch Company</td>\n",
       "      <td>2060-06-15</td>\n",
       "      <td>235</td>\n",
       "      <td>7.9</td>\n",
       "      <td>1960</td>\n",
       "      <td>2.211890e+07</td>\n",
       "      <td>1.843242e+08</td>\n",
       "    </tr>\n",
       "  </tbody>\n",
       "</table>\n",
       "</div>"
      ],
      "text/plain": [
       "         imdb_id  popularity    budget   revenue         original_title  \\\n",
       "10172  tt0053804    0.256779         0         0                 Exodus   \n",
       "10141  tt0054215    2.610362    806948  32000000                 Psycho   \n",
       "10142  tt0054047    1.872132   2000000   4905000  The Magnificent Seven   \n",
       "10143  tt0054331    1.136943  12000000  60000000              Spartacus   \n",
       "10144  tt0053604    0.947307   3000000  25000000          The Apartment   \n",
       "\n",
       "                                                    cast          director  \\\n",
       "10172  Paul Newman|Eva Marie Saint|Lee J. Cobb|Ralph ...    Otto Preminger   \n",
       "10141  Anthony Perkins|Vera Miles|John Gavin|Janet Le...  Alfred Hitchcock   \n",
       "10142  Yul Brynner|Eli Wallach|Steve McQueen|Charles ...      John Sturges   \n",
       "10143  Kirk Douglas|Laurence Olivier|Jean Simmons|Cha...   Stanley Kubrick   \n",
       "10144  Jack Lemmon|Shirley MacLaine|Fred MacMurray|Ra...      Billy Wilder   \n",
       "\n",
       "       runtime                    genres  \\\n",
       "10172      208  Action|Drama|History|War   \n",
       "10141      109     Drama|Horror|Thriller   \n",
       "10142      128  Action|Adventure|Western   \n",
       "10143      197      Action|Drama|History   \n",
       "10144      125      Comedy|Drama|Romance   \n",
       "\n",
       "                            production_companies release_date  vote_count  \\\n",
       "10172                        Carlyle Productions   2060-03-27          14   \n",
       "10141                        Shamley Productions   2060-08-14        1180   \n",
       "10142  The Mirisch Corporation|Alpha Productions   2060-10-23         224   \n",
       "10143                          Bryna Productions   2060-10-06         211   \n",
       "10144         United Artists|The Mirisch Company   2060-06-15         235   \n",
       "\n",
       "       vote_average  release_year    budget_adj   revenue_adj  \n",
       "10172           6.1          1960  0.000000e+00  0.000000e+00  \n",
       "10141           8.0          1960  5.949601e+06  2.359350e+08  \n",
       "10142           7.0          1960  1.474593e+07  3.616441e+07  \n",
       "10143           6.9          1960  8.847561e+07  4.423780e+08  \n",
       "10144           7.9          1960  2.211890e+07  1.843242e+08  "
      ]
     },
     "execution_count": 12,
     "metadata": {},
     "output_type": "execute_result"
    }
   ],
   "source": [
    "df.head(5)"
   ]
  },
  {
   "cell_type": "markdown",
   "metadata": {},
   "source": [
    "<a id='eda'></a>\n",
    "## Exploratory Data Analysis"
   ]
  },
  {
   "cell_type": "markdown",
   "metadata": {},
   "source": [
    "next let's do a general statistical overview of our numerical rows in the dataset"
   ]
  },
  {
   "cell_type": "code",
   "execution_count": 13,
   "metadata": {},
   "outputs": [
    {
     "data": {
      "text/html": [
       "<div>\n",
       "<style scoped>\n",
       "    .dataframe tbody tr th:only-of-type {\n",
       "        vertical-align: middle;\n",
       "    }\n",
       "\n",
       "    .dataframe tbody tr th {\n",
       "        vertical-align: top;\n",
       "    }\n",
       "\n",
       "    .dataframe thead th {\n",
       "        text-align: right;\n",
       "    }\n",
       "</style>\n",
       "<table border=\"1\" class=\"dataframe\">\n",
       "  <thead>\n",
       "    <tr style=\"text-align: right;\">\n",
       "      <th></th>\n",
       "      <th>popularity</th>\n",
       "      <th>budget</th>\n",
       "      <th>revenue</th>\n",
       "      <th>runtime</th>\n",
       "      <th>vote_count</th>\n",
       "      <th>vote_average</th>\n",
       "      <th>release_year</th>\n",
       "      <th>budget_adj</th>\n",
       "      <th>revenue_adj</th>\n",
       "    </tr>\n",
       "  </thead>\n",
       "  <tbody>\n",
       "    <tr>\n",
       "      <td>count</td>\n",
       "      <td>9759.000000</td>\n",
       "      <td>9.759000e+03</td>\n",
       "      <td>9.759000e+03</td>\n",
       "      <td>9759.000000</td>\n",
       "      <td>9759.000000</td>\n",
       "      <td>9759.000000</td>\n",
       "      <td>9759.000000</td>\n",
       "      <td>9.759000e+03</td>\n",
       "      <td>9.759000e+03</td>\n",
       "    </tr>\n",
       "    <tr>\n",
       "      <td>mean</td>\n",
       "      <td>0.676878</td>\n",
       "      <td>1.604536e+07</td>\n",
       "      <td>4.337543e+07</td>\n",
       "      <td>102.910749</td>\n",
       "      <td>234.569526</td>\n",
       "      <td>5.961963</td>\n",
       "      <td>2000.865355</td>\n",
       "      <td>1.929535e+07</td>\n",
       "      <td>5.607437e+07</td>\n",
       "    </tr>\n",
       "    <tr>\n",
       "      <td>std</td>\n",
       "      <td>0.851101</td>\n",
       "      <td>3.188835e+07</td>\n",
       "      <td>1.185832e+08</td>\n",
       "      <td>27.862274</td>\n",
       "      <td>584.545024</td>\n",
       "      <td>0.912534</td>\n",
       "      <td>13.035516</td>\n",
       "      <td>3.544224e+07</td>\n",
       "      <td>1.464117e+08</td>\n",
       "    </tr>\n",
       "    <tr>\n",
       "      <td>min</td>\n",
       "      <td>0.000188</td>\n",
       "      <td>0.000000e+00</td>\n",
       "      <td>0.000000e+00</td>\n",
       "      <td>0.000000</td>\n",
       "      <td>10.000000</td>\n",
       "      <td>1.500000</td>\n",
       "      <td>1960.000000</td>\n",
       "      <td>0.000000e+00</td>\n",
       "      <td>0.000000e+00</td>\n",
       "    </tr>\n",
       "    <tr>\n",
       "      <td>25%</td>\n",
       "      <td>0.232390</td>\n",
       "      <td>0.000000e+00</td>\n",
       "      <td>0.000000e+00</td>\n",
       "      <td>90.000000</td>\n",
       "      <td>18.000000</td>\n",
       "      <td>5.400000</td>\n",
       "      <td>1994.000000</td>\n",
       "      <td>0.000000e+00</td>\n",
       "      <td>0.000000e+00</td>\n",
       "    </tr>\n",
       "    <tr>\n",
       "      <td>50%</td>\n",
       "      <td>0.419331</td>\n",
       "      <td>1.700000e+05</td>\n",
       "      <td>0.000000e+00</td>\n",
       "      <td>100.000000</td>\n",
       "      <td>46.000000</td>\n",
       "      <td>6.000000</td>\n",
       "      <td>2005.000000</td>\n",
       "      <td>2.929070e+05</td>\n",
       "      <td>0.000000e+00</td>\n",
       "    </tr>\n",
       "    <tr>\n",
       "      <td>75%</td>\n",
       "      <td>0.774385</td>\n",
       "      <td>1.900000e+07</td>\n",
       "      <td>3.070102e+07</td>\n",
       "      <td>112.000000</td>\n",
       "      <td>172.000000</td>\n",
       "      <td>6.600000</td>\n",
       "      <td>2011.000000</td>\n",
       "      <td>2.445229e+07</td>\n",
       "      <td>4.259197e+07</td>\n",
       "    </tr>\n",
       "    <tr>\n",
       "      <td>max</td>\n",
       "      <td>9.432768</td>\n",
       "      <td>4.250000e+08</td>\n",
       "      <td>2.781506e+09</td>\n",
       "      <td>877.000000</td>\n",
       "      <td>9767.000000</td>\n",
       "      <td>8.700000</td>\n",
       "      <td>2015.000000</td>\n",
       "      <td>4.250000e+08</td>\n",
       "      <td>2.827124e+09</td>\n",
       "    </tr>\n",
       "  </tbody>\n",
       "</table>\n",
       "</div>"
      ],
      "text/plain": [
       "        popularity        budget       revenue      runtime   vote_count  \\\n",
       "count  9759.000000  9.759000e+03  9.759000e+03  9759.000000  9759.000000   \n",
       "mean      0.676878  1.604536e+07  4.337543e+07   102.910749   234.569526   \n",
       "std       0.851101  3.188835e+07  1.185832e+08    27.862274   584.545024   \n",
       "min       0.000188  0.000000e+00  0.000000e+00     0.000000    10.000000   \n",
       "25%       0.232390  0.000000e+00  0.000000e+00    90.000000    18.000000   \n",
       "50%       0.419331  1.700000e+05  0.000000e+00   100.000000    46.000000   \n",
       "75%       0.774385  1.900000e+07  3.070102e+07   112.000000   172.000000   \n",
       "max       9.432768  4.250000e+08  2.781506e+09   877.000000  9767.000000   \n",
       "\n",
       "       vote_average  release_year    budget_adj   revenue_adj  \n",
       "count   9759.000000   9759.000000  9.759000e+03  9.759000e+03  \n",
       "mean       5.961963   2000.865355  1.929535e+07  5.607437e+07  \n",
       "std        0.912534     13.035516  3.544224e+07  1.464117e+08  \n",
       "min        1.500000   1960.000000  0.000000e+00  0.000000e+00  \n",
       "25%        5.400000   1994.000000  0.000000e+00  0.000000e+00  \n",
       "50%        6.000000   2005.000000  2.929070e+05  0.000000e+00  \n",
       "75%        6.600000   2011.000000  2.445229e+07  4.259197e+07  \n",
       "max        8.700000   2015.000000  4.250000e+08  2.827124e+09  "
      ]
     },
     "execution_count": 13,
     "metadata": {},
     "output_type": "execute_result"
    }
   ],
   "source": [
    "df.describe()\n"
   ]
  },
  {
   "cell_type": "markdown",
   "metadata": {},
   "source": [
    "and displaying this data visually using the .hist() method"
   ]
  },
  {
   "cell_type": "code",
   "execution_count": 14,
   "metadata": {},
   "outputs": [
    {
     "data": {
      "image/png": "[encoded data removed]",
      "text/plain": [
       "<Figure size 1008x1008 with 9 Axes>"
      ]
     },
     "metadata": {
      "needs_background": "light"
     },
     "output_type": "display_data"
    }
   ],
   "source": [
    "df.hist(bins=50, figsize=(14,14));"
   ]
  },
  {
   "cell_type": "markdown",
   "metadata": {},
   "source": [
    "conclusions that can be drawn from this plots is that:\n",
    "* above 6000 movies have a budget between 0 and 15000000\n",
    "* most movies did a budget adjustment and even then the budget did not go beyond 200000000 for all movies\n",
    "* most movies in the dataset had a popularity less than 1 rating \n",
    "* our dataset contains movies mainly from the year 2014 upwards with the next being the year 2005\n",
    "* most movies in our dataset turned up a large revenue \n",
    "* the adjusted revenue was still high enough\n",
    "* most movies in our dataset have a runtime between 100 and 160 minutes\n",
    "* the average vote is 6\n",
    "* the vote count is averaging 300 votes"
   ]
  },
  {
   "cell_type": "markdown",
   "metadata": {},
   "source": [
    "### <a id='q1'></a>Question 1"
   ]
  },
  {
   "cell_type": "code",
   "execution_count": 15,
   "metadata": {},
   "outputs": [
    {
     "data": {
      "text/html": [
       "<div>\n",
       "<style scoped>\n",
       "    .dataframe tbody tr th:only-of-type {\n",
       "        vertical-align: middle;\n",
       "    }\n",
       "\n",
       "    .dataframe tbody tr th {\n",
       "        vertical-align: top;\n",
       "    }\n",
       "\n",
       "    .dataframe thead th {\n",
       "        text-align: right;\n",
       "    }\n",
       "</style>\n",
       "<table border=\"1\" class=\"dataframe\">\n",
       "  <thead>\n",
       "    <tr style=\"text-align: right;\">\n",
       "      <th></th>\n",
       "      <th>Action</th>\n",
       "      <th>Adventure</th>\n",
       "      <th>Animation</th>\n",
       "      <th>Comedy</th>\n",
       "      <th>Crime</th>\n",
       "      <th>Documentary</th>\n",
       "      <th>Drama</th>\n",
       "      <th>Family</th>\n",
       "      <th>Fantasy</th>\n",
       "      <th>Foreign</th>\n",
       "      <th>History</th>\n",
       "      <th>Horror</th>\n",
       "      <th>Music</th>\n",
       "      <th>Mystery</th>\n",
       "      <th>Romance</th>\n",
       "      <th>Science Fiction</th>\n",
       "      <th>TV Movie</th>\n",
       "      <th>Thriller</th>\n",
       "      <th>War</th>\n",
       "      <th>Western</th>\n",
       "    </tr>\n",
       "  </thead>\n",
       "  <tbody>\n",
       "    <tr>\n",
       "      <td>10172</td>\n",
       "      <td>1</td>\n",
       "      <td>0</td>\n",
       "      <td>0</td>\n",
       "      <td>0</td>\n",
       "      <td>0</td>\n",
       "      <td>0</td>\n",
       "      <td>1</td>\n",
       "      <td>0</td>\n",
       "      <td>0</td>\n",
       "      <td>0</td>\n",
       "      <td>1</td>\n",
       "      <td>0</td>\n",
       "      <td>0</td>\n",
       "      <td>0</td>\n",
       "      <td>0</td>\n",
       "      <td>0</td>\n",
       "      <td>0</td>\n",
       "      <td>0</td>\n",
       "      <td>1</td>\n",
       "      <td>0</td>\n",
       "    </tr>\n",
       "    <tr>\n",
       "      <td>10141</td>\n",
       "      <td>0</td>\n",
       "      <td>0</td>\n",
       "      <td>0</td>\n",
       "      <td>0</td>\n",
       "      <td>0</td>\n",
       "      <td>0</td>\n",
       "      <td>1</td>\n",
       "      <td>0</td>\n",
       "      <td>0</td>\n",
       "      <td>0</td>\n",
       "      <td>0</td>\n",
       "      <td>1</td>\n",
       "      <td>0</td>\n",
       "      <td>0</td>\n",
       "      <td>0</td>\n",
       "      <td>0</td>\n",
       "      <td>0</td>\n",
       "      <td>1</td>\n",
       "      <td>0</td>\n",
       "      <td>0</td>\n",
       "    </tr>\n",
       "    <tr>\n",
       "      <td>10142</td>\n",
       "      <td>1</td>\n",
       "      <td>1</td>\n",
       "      <td>0</td>\n",
       "      <td>0</td>\n",
       "      <td>0</td>\n",
       "      <td>0</td>\n",
       "      <td>0</td>\n",
       "      <td>0</td>\n",
       "      <td>0</td>\n",
       "      <td>0</td>\n",
       "      <td>0</td>\n",
       "      <td>0</td>\n",
       "      <td>0</td>\n",
       "      <td>0</td>\n",
       "      <td>0</td>\n",
       "      <td>0</td>\n",
       "      <td>0</td>\n",
       "      <td>0</td>\n",
       "      <td>0</td>\n",
       "      <td>1</td>\n",
       "    </tr>\n",
       "    <tr>\n",
       "      <td>10143</td>\n",
       "      <td>1</td>\n",
       "      <td>0</td>\n",
       "      <td>0</td>\n",
       "      <td>0</td>\n",
       "      <td>0</td>\n",
       "      <td>0</td>\n",
       "      <td>1</td>\n",
       "      <td>0</td>\n",
       "      <td>0</td>\n",
       "      <td>0</td>\n",
       "      <td>1</td>\n",
       "      <td>0</td>\n",
       "      <td>0</td>\n",
       "      <td>0</td>\n",
       "      <td>0</td>\n",
       "      <td>0</td>\n",
       "      <td>0</td>\n",
       "      <td>0</td>\n",
       "      <td>0</td>\n",
       "      <td>0</td>\n",
       "    </tr>\n",
       "    <tr>\n",
       "      <td>10144</td>\n",
       "      <td>0</td>\n",
       "      <td>0</td>\n",
       "      <td>0</td>\n",
       "      <td>1</td>\n",
       "      <td>0</td>\n",
       "      <td>0</td>\n",
       "      <td>1</td>\n",
       "      <td>0</td>\n",
       "      <td>0</td>\n",
       "      <td>0</td>\n",
       "      <td>0</td>\n",
       "      <td>0</td>\n",
       "      <td>0</td>\n",
       "      <td>0</td>\n",
       "      <td>1</td>\n",
       "      <td>0</td>\n",
       "      <td>0</td>\n",
       "      <td>0</td>\n",
       "      <td>0</td>\n",
       "      <td>0</td>\n",
       "    </tr>\n",
       "  </tbody>\n",
       "</table>\n",
       "</div>"
      ],
      "text/plain": [
       "       Action  Adventure  Animation  Comedy  Crime  Documentary  Drama  \\\n",
       "10172       1          0          0       0      0            0      1   \n",
       "10141       0          0          0       0      0            0      1   \n",
       "10142       1          1          0       0      0            0      0   \n",
       "10143       1          0          0       0      0            0      1   \n",
       "10144       0          0          0       1      0            0      1   \n",
       "\n",
       "       Family  Fantasy  Foreign  History  Horror  Music  Mystery  Romance  \\\n",
       "10172       0        0        0        1       0      0        0        0   \n",
       "10141       0        0        0        0       1      0        0        0   \n",
       "10142       0        0        0        0       0      0        0        0   \n",
       "10143       0        0        0        1       0      0        0        0   \n",
       "10144       0        0        0        0       0      0        0        1   \n",
       "\n",
       "       Science Fiction  TV Movie  Thriller  War  Western  \n",
       "10172                0         0         0    1        0  \n",
       "10141                0         0         1    0        0  \n",
       "10142                0         0         0    0        1  \n",
       "10143                0         0         0    0        0  \n",
       "10144                0         0         0    0        0  "
      ]
     },
     "execution_count": 15,
     "metadata": {},
     "output_type": "execute_result"
    }
   ],
   "source": [
    "genres = df['genres'].str.get_dummies()\n",
    "genres.head()"
   ]
  },
  {
   "cell_type": "markdown",
   "metadata": {},
   "source": [
    "this gives us a dataset with showing us the distribution of the genres, returning 1 for true and 0 for false. <p> now to checck for the progression of movies over the years to see how over the years which genres were more preferred</p>"
   ]
  },
  {
   "cell_type": "code",
   "execution_count": 16,
   "metadata": {},
   "outputs": [
    {
     "data": {
      "text/html": [
       "<div>\n",
       "<style scoped>\n",
       "    .dataframe tbody tr th:only-of-type {\n",
       "        vertical-align: middle;\n",
       "    }\n",
       "\n",
       "    .dataframe tbody tr th {\n",
       "        vertical-align: top;\n",
       "    }\n",
       "\n",
       "    .dataframe thead th {\n",
       "        text-align: right;\n",
       "    }\n",
       "</style>\n",
       "<table border=\"1\" class=\"dataframe\">\n",
       "  <thead>\n",
       "    <tr style=\"text-align: right;\">\n",
       "      <th></th>\n",
       "      <th>imdb_id</th>\n",
       "      <th>release_year</th>\n",
       "      <th>Action</th>\n",
       "      <th>Adventure</th>\n",
       "      <th>Animation</th>\n",
       "      <th>Comedy</th>\n",
       "      <th>Crime</th>\n",
       "      <th>Documentary</th>\n",
       "      <th>Drama</th>\n",
       "      <th>Family</th>\n",
       "      <th>...</th>\n",
       "      <th>History</th>\n",
       "      <th>Horror</th>\n",
       "      <th>Music</th>\n",
       "      <th>Mystery</th>\n",
       "      <th>Romance</th>\n",
       "      <th>Science Fiction</th>\n",
       "      <th>TV Movie</th>\n",
       "      <th>Thriller</th>\n",
       "      <th>War</th>\n",
       "      <th>Western</th>\n",
       "    </tr>\n",
       "  </thead>\n",
       "  <tbody>\n",
       "    <tr>\n",
       "      <td>10172</td>\n",
       "      <td>tt0053804</td>\n",
       "      <td>1960</td>\n",
       "      <td>1</td>\n",
       "      <td>0</td>\n",
       "      <td>0</td>\n",
       "      <td>0</td>\n",
       "      <td>0</td>\n",
       "      <td>0</td>\n",
       "      <td>1</td>\n",
       "      <td>0</td>\n",
       "      <td>...</td>\n",
       "      <td>1</td>\n",
       "      <td>0</td>\n",
       "      <td>0</td>\n",
       "      <td>0</td>\n",
       "      <td>0</td>\n",
       "      <td>0</td>\n",
       "      <td>0</td>\n",
       "      <td>0</td>\n",
       "      <td>1</td>\n",
       "      <td>0</td>\n",
       "    </tr>\n",
       "    <tr>\n",
       "      <td>10141</td>\n",
       "      <td>tt0054215</td>\n",
       "      <td>1960</td>\n",
       "      <td>0</td>\n",
       "      <td>0</td>\n",
       "      <td>0</td>\n",
       "      <td>0</td>\n",
       "      <td>0</td>\n",
       "      <td>0</td>\n",
       "      <td>1</td>\n",
       "      <td>0</td>\n",
       "      <td>...</td>\n",
       "      <td>0</td>\n",
       "      <td>1</td>\n",
       "      <td>0</td>\n",
       "      <td>0</td>\n",
       "      <td>0</td>\n",
       "      <td>0</td>\n",
       "      <td>0</td>\n",
       "      <td>1</td>\n",
       "      <td>0</td>\n",
       "      <td>0</td>\n",
       "    </tr>\n",
       "    <tr>\n",
       "      <td>10142</td>\n",
       "      <td>tt0054047</td>\n",
       "      <td>1960</td>\n",
       "      <td>1</td>\n",
       "      <td>1</td>\n",
       "      <td>0</td>\n",
       "      <td>0</td>\n",
       "      <td>0</td>\n",
       "      <td>0</td>\n",
       "      <td>0</td>\n",
       "      <td>0</td>\n",
       "      <td>...</td>\n",
       "      <td>0</td>\n",
       "      <td>0</td>\n",
       "      <td>0</td>\n",
       "      <td>0</td>\n",
       "      <td>0</td>\n",
       "      <td>0</td>\n",
       "      <td>0</td>\n",
       "      <td>0</td>\n",
       "      <td>0</td>\n",
       "      <td>1</td>\n",
       "    </tr>\n",
       "    <tr>\n",
       "      <td>10143</td>\n",
       "      <td>tt0054331</td>\n",
       "      <td>1960</td>\n",
       "      <td>1</td>\n",
       "      <td>0</td>\n",
       "      <td>0</td>\n",
       "      <td>0</td>\n",
       "      <td>0</td>\n",
       "      <td>0</td>\n",
       "      <td>1</td>\n",
       "      <td>0</td>\n",
       "      <td>...</td>\n",
       "      <td>1</td>\n",
       "      <td>0</td>\n",
       "      <td>0</td>\n",
       "      <td>0</td>\n",
       "      <td>0</td>\n",
       "      <td>0</td>\n",
       "      <td>0</td>\n",
       "      <td>0</td>\n",
       "      <td>0</td>\n",
       "      <td>0</td>\n",
       "    </tr>\n",
       "    <tr>\n",
       "      <td>10144</td>\n",
       "      <td>tt0053604</td>\n",
       "      <td>1960</td>\n",
       "      <td>0</td>\n",
       "      <td>0</td>\n",
       "      <td>0</td>\n",
       "      <td>1</td>\n",
       "      <td>0</td>\n",
       "      <td>0</td>\n",
       "      <td>1</td>\n",
       "      <td>0</td>\n",
       "      <td>...</td>\n",
       "      <td>0</td>\n",
       "      <td>0</td>\n",
       "      <td>0</td>\n",
       "      <td>0</td>\n",
       "      <td>1</td>\n",
       "      <td>0</td>\n",
       "      <td>0</td>\n",
       "      <td>0</td>\n",
       "      <td>0</td>\n",
       "      <td>0</td>\n",
       "    </tr>\n",
       "  </tbody>\n",
       "</table>\n",
       "<p>5 rows × 22 columns</p>\n",
       "</div>"
      ],
      "text/plain": [
       "         imdb_id  release_year  Action  Adventure  Animation  Comedy  Crime  \\\n",
       "10172  tt0053804          1960       1          0          0       0      0   \n",
       "10141  tt0054215          1960       0          0          0       0      0   \n",
       "10142  tt0054047          1960       1          1          0       0      0   \n",
       "10143  tt0054331          1960       1          0          0       0      0   \n",
       "10144  tt0053604          1960       0          0          0       1      0   \n",
       "\n",
       "       Documentary  Drama  Family  ...  History  Horror  Music  Mystery  \\\n",
       "10172            0      1       0  ...        1       0      0        0   \n",
       "10141            0      1       0  ...        0       1      0        0   \n",
       "10142            0      0       0  ...        0       0      0        0   \n",
       "10143            0      1       0  ...        1       0      0        0   \n",
       "10144            0      1       0  ...        0       0      0        0   \n",
       "\n",
       "       Romance  Science Fiction  TV Movie  Thriller  War  Western  \n",
       "10172        0                0         0         0    1        0  \n",
       "10141        0                0         0         1    0        0  \n",
       "10142        0                0         0         0    0        1  \n",
       "10143        0                0         0         0    0        0  \n",
       "10144        1                0         0         0    0        0  \n",
       "\n",
       "[5 rows x 22 columns]"
      ]
     },
     "execution_count": 16,
     "metadata": {},
     "output_type": "execute_result"
    }
   ],
   "source": [
    "genre_year = (pd.concat([df['imdb_id'], df['release_year'], genres], axis = 1))\n",
    "genre_year.head()"
   ]
  },
  {
   "cell_type": "code",
   "execution_count": 17,
   "metadata": {},
   "outputs": [
    {
     "data": {
      "text/plain": [
       "Text(0, 0.5, 'number of movies')"
      ]
     },
     "execution_count": 17,
     "metadata": {},
     "output_type": "execute_result"
    },
    {
     "data": {
      "image/png": "[encoded data removed]",
      "text/plain": [
       "<Figure size 1080x360 with 1 Axes>"
      ]
     },
     "metadata": {
      "needs_background": "light"
     },
     "output_type": "display_data"
    }
   ],
   "source": [
    "top10_genre=(genre_year.iloc[:, 2:21].sum().sort_values(ascending=False).head(10).index.values)\n",
    "genre_groups=(genre_year.iloc[:, 1:22].groupby('release_year').sum()).loc[:, top10_genre]\n",
    "genre_groups.rolling(2).mean().plot(figsize=(15,5), title='visualization of progression of genres over the years');\n",
    "plt.ylabel('number of movies')"
   ]
  },
  {
   "cell_type": "markdown",
   "metadata": {},
   "source": [
    "from this visualization showing the top 8 genres over the years we can see that drama is the fastest growing genre with comedy, thri;ller and action following behind. <p>furthr showing the distribution of total movies genre below in the bar chart we see that drama still has the most movies, then comedy, thriller and action</p> "
   ]
  },
  {
   "cell_type": "code",
   "execution_count": 18,
   "metadata": {},
   "outputs": [
    {
     "data": {
      "image/png": "[encoded data removed]",
      "text/plain": [
       "<Figure size 432x288 with 1 Axes>"
      ]
     },
     "metadata": {
      "needs_background": "light"
     },
     "output_type": "display_data"
    }
   ],
   "source": [
    "genres.sum().plot(kind='bar', title='number of movies vs genre');\n",
    "plt.xlabel('genres');\n",
    "plt.ylabel('number of movies');"
   ]
  },
  {
   "cell_type": "markdown",
   "metadata": {},
   "source": [
    "now checking for the actors that were present in the movies and the number of movies they acted in "
   ]
  },
  {
   "cell_type": "markdown",
   "metadata": {},
   "source": [
    "<a id='q2'></a>\n",
    "### Question 2"
   ]
  },
  {
   "cell_type": "markdown",
   "metadata": {},
   "source": [
    "Getting the names of the actors and the number of movies they acted in, in a dictionary"
   ]
  },
  {
   "cell_type": "code",
   "execution_count": 19,
   "metadata": {},
   "outputs": [],
   "source": [
    "def splits(column):\n",
    "    actors_lists = []\n",
    "    for lis in df[column].str.split('|'):\n",
    "        actors_lists.append(lis)\n",
    "    return actors_lists\n",
    "actors_lists = splits('cast')\n",
    "new_list_actor = []\n",
    "for sub_list in actors_lists:\n",
    "    for name in sub_list:\n",
    "        new_list_actor.append(name)\n",
    "no=[]       \n",
    "n_lists={}\n",
    "for directo in new_list_actor:\n",
    "    no.append(directo)\n",
    "for name in no:\n",
    "    if name in n_lists:\n",
    "        n_lists[name] += 1\n",
    "    else:\n",
    "        n_lists[name] = 1\n",
    "\n"
   ]
  },
  {
   "cell_type": "markdown",
   "metadata": {},
   "source": [
    "now converting this dictionary into a dataframe and plotting a bar chart to show the top 40 actors with the numbers of movies"
   ]
  },
  {
   "cell_type": "code",
   "execution_count": 20,
   "metadata": {},
   "outputs": [
    {
     "name": "stdout",
     "output_type": "stream",
     "text": [
      "the number of unique actors that all acted in the movies are 17121 actors\n"
     ]
    },
    {
     "data": {
      "image/png": "[encoded data removed]",
      "text/plain": [
       "<Figure size 864x864 with 1 Axes>"
      ]
     },
     "metadata": {
      "needs_background": "light"
     },
     "output_type": "display_data"
    }
   ],
   "source": [
    "actors = pd.DataFrame.from_dict(n_lists, orient= 'index')\n",
    "actors = actors.reset_index()\n",
    "actors.columns = ['name', 'n0_of_movies']\n",
    "new =actors.sort_values('n0_of_movies', ascending = False)\n",
    "new = new.head(40)\n",
    "new.plot(x='name', kind='barh', title='actors and the number of movies there in', figsize=(12,12));\n",
    "plt.ylabel('name')\n",
    "plt.xlabel('number of movies')\n",
    "print('the number of unique actors that all acted in the movies are {} actors'.format(actors.shape[0]))"
   ]
  },
  {
   "cell_type": "markdown",
   "metadata": {},
   "source": [
    "The visualization above shows the number of movies acted by the fourty top actors, the actor with the most movies being Robert De Niro."
   ]
  },
  {
   "cell_type": "code",
   "execution_count": 21,
   "metadata": {},
   "outputs": [
    {
     "data": {
      "text/html": [
       "<div>\n",
       "<style scoped>\n",
       "    .dataframe tbody tr th:only-of-type {\n",
       "        vertical-align: middle;\n",
       "    }\n",
       "\n",
       "    .dataframe tbody tr th {\n",
       "        vertical-align: top;\n",
       "    }\n",
       "\n",
       "    .dataframe thead th {\n",
       "        text-align: right;\n",
       "    }\n",
       "</style>\n",
       "<table border=\"1\" class=\"dataframe\">\n",
       "  <thead>\n",
       "    <tr style=\"text-align: right;\">\n",
       "      <th></th>\n",
       "      <th>name</th>\n",
       "      <th>n0_of_movies</th>\n",
       "    </tr>\n",
       "  </thead>\n",
       "  <tbody>\n",
       "    <tr>\n",
       "      <td>1535</td>\n",
       "      <td>Robert De Niro</td>\n",
       "      <td>72</td>\n",
       "    </tr>\n",
       "  </tbody>\n",
       "</table>\n",
       "</div>"
      ],
      "text/plain": [
       "                name  n0_of_movies\n",
       "1535  Robert De Niro            72"
      ]
     },
     "execution_count": 21,
     "metadata": {},
     "output_type": "execute_result"
    }
   ],
   "source": [
    "new[new['name'].str.contains('Robert De Niro')]"
   ]
  },
  {
   "cell_type": "markdown",
   "metadata": {},
   "source": [
    "who has 72 movies"
   ]
  },
  {
   "cell_type": "markdown",
   "metadata": {},
   "source": [
    "<a id='q3'></a>\n",
    "### Question 3"
   ]
  },
  {
   "cell_type": "markdown",
   "metadata": {},
   "source": [
    "## From this visualization we can see that the more popular a movie was the more money they had to spend on their budget, we can say that maybe advertisement contributed to the high budget required intially for the movie as the chart shows an exponential increase in budget for popularity"
   ]
  },
  {
   "cell_type": "code",
   "execution_count": 22,
   "metadata": {},
   "outputs": [
    {
     "data": {
      "image/png": "[encoded data removed]",
      "text/plain": [
       "<Figure size 432x288 with 1 Axes>"
      ]
     },
     "metadata": {
      "needs_background": "light"
     },
     "output_type": "display_data"
    }
   ],
   "source": [
    "cuts = [0, 0.207, 0.384, 0.714, 10]\n",
    "cut_names = ['not so popular', 'a little popular', 'popular', 'very popular']\n",
    "df['popularity_groupings'] = pd.cut(df['popularity'], cuts, labels=cut_names)\n",
    "df.groupby('popularity_groupings').budget.mean().plot(kind='bar', title='influence of budget on popularity');\n",
    "plt.ylabel('budget')\n",
    "plt.grid(True)"
   ]
  },
  {
   "cell_type": "markdown",
   "metadata": {},
   "source": [
    "### Question 4\n",
    "<a id='q4'></a>"
   ]
  },
  {
   "cell_type": "markdown",
   "metadata": {},
   "source": [
    "## From the pie chart brlow we are able to visualize the effect of movies length on the popularity of movies and we see that the most popular ovies are those with the designation standard length which have a runtime between the range of 112 and 180 minutes."
   ]
  },
  {
   "cell_type": "code",
   "execution_count": 23,
   "metadata": {},
   "outputs": [
    {
     "data": {
      "image/png": "[encoded data removed]",
      "text/plain": [
       "<Figure size 432x288 with 1 Axes>"
      ]
     },
     "metadata": {},
     "output_type": "display_data"
    }
   ],
   "source": [
    "cuts = [0, 90, 100, 112, 180, 877]\n",
    "cut_names = ['short', 'not so long', 'long','standard length', 'very long']\n",
    "df['movie_length'] = pd.cut(df['runtime'], cuts, labels=cut_names)\n",
    "df.groupby('movie_length').popularity.mean().plot(kind='pie', title='Popularity of movies based on runtime');\n"
   ]
  },
  {
   "cell_type": "markdown",
   "metadata": {},
   "source": [
    "#### Next checking for the profit realized by each movie and creating a dataframe column for this profit"
   ]
  },
  {
   "cell_type": "code",
   "execution_count": 24,
   "metadata": {},
   "outputs": [],
   "source": [
    "df['profit'] = df['revenue'] - df['budget']"
   ]
  },
  {
   "cell_type": "markdown",
   "metadata": {},
   "source": [
    "#### Creating a seperate dataframe to contain the profit, budget and revenue data"
   ]
  },
  {
   "cell_type": "code",
   "execution_count": 25,
   "metadata": {},
   "outputs": [],
   "source": [
    "df_p = df[['budget', 'revenue', 'profit']]"
   ]
  },
  {
   "cell_type": "markdown",
   "metadata": {},
   "source": [
    "### Question 5\n",
    "<a id='q5'></a>"
   ]
  },
  {
   "cell_type": "markdown",
   "metadata": {},
   "source": [
    "## The bar chart below shows that the popular movies are the ones that bring about the most profit"
   ]
  },
  {
   "cell_type": "code",
   "execution_count": 26,
   "metadata": {},
   "outputs": [
    {
     "data": {
      "text/plain": [
       "Text(0, 0.5, 'profit')"
      ]
     },
     "execution_count": 26,
     "metadata": {},
     "output_type": "execute_result"
    },
    {
     "data": {
      "image/png": "[encoded data removed]",
      "text/plain": [
       "<Figure size 432x288 with 1 Axes>"
      ]
     },
     "metadata": {
      "needs_background": "light"
     },
     "output_type": "display_data"
    }
   ],
   "source": [
    "df.groupby('popularity_groupings').profit.mean().plot(kind='bar', title='effect of popularity on profit margin');\n",
    "plt.ylabel('profit')"
   ]
  },
  {
   "cell_type": "markdown",
   "metadata": {},
   "source": [
    "from the above chart the very popular movies had a larger profit margin"
   ]
  },
  {
   "cell_type": "markdown",
   "metadata": {},
   "source": [
    "### Question 6 <a id='q6'></a>"
   ]
  },
  {
   "cell_type": "markdown",
   "metadata": {},
   "source": [
    "## The scatter plot and the box plot show a mainly positive trendline with there generally being a profit for the budget put in with some movies turning up a loss."
   ]
  },
  {
   "cell_type": "code",
   "execution_count": 27,
   "metadata": {},
   "outputs": [
    {
     "data": {
      "image/png": "[encoded data removed]",
      "text/plain": [
       "<Figure size 432x288 with 1 Axes>"
      ]
     },
     "metadata": {
      "needs_background": "light"
     },
     "output_type": "display_data"
    }
   ],
   "source": [
    "df_p.plot(kind='box', title='Box plot of budget, revenue and profit');"
   ]
  },
  {
   "cell_type": "code",
   "execution_count": 28,
   "metadata": {},
   "outputs": [
    {
     "data": {
      "image/png": "[encoded data removed]",
      "text/plain": [
       "<Figure size 576x576 with 9 Axes>"
      ]
     },
     "metadata": {
      "needs_background": "light"
     },
     "output_type": "display_data"
    }
   ],
   "source": [
    "pd.plotting.scatter_matrix(df_p, figsize=(8,8));"
   ]
  },
  {
   "cell_type": "code",
   "execution_count": 29,
   "metadata": {},
   "outputs": [
    {
     "data": {
      "image/png": "[encoded data removed]",
      "text/plain": [
       "<Figure size 432x288 with 1 Axes>"
      ]
     },
     "metadata": {
      "needs_background": "light"
     },
     "output_type": "display_data"
    }
   ],
   "source": [
    "x=df_p['budget']\n",
    "y =df_p['profit']\n",
    "plt.scatter(x,y)\n",
    "z = np.polyfit(x, y, 1)\n",
    "p = np.poly1d(z)\n",
    "plt.plot(x, p(x), 'r--')\n",
    "plt.xlabel('budget')\n",
    "plt.ylabel('profit')\n",
    "plt.title('budget against profit')\n",
    "plt.show()\n"
   ]
  },
  {
   "cell_type": "markdown",
   "metadata": {},
   "source": [
    "plot of budget against profit shows a positive trendline, hence the higher budget movies gave a larger profit, though this is not true for all movies"
   ]
  },
  {
   "cell_type": "markdown",
   "metadata": {},
   "source": [
    "### Question 7 <a id='q7'></a>\n",
    "In this analysis we see the effect of vote counts on other characteristics"
   ]
  },
  {
   "cell_type": "code",
   "execution_count": 30,
   "metadata": {},
   "outputs": [
    {
     "data": {
      "image/png": "[encoded data removed]",
      "text/plain": [
       "<Figure size 432x288 with 1 Axes>"
      ]
     },
     "metadata": {
      "needs_background": "light"
     },
     "output_type": "display_data"
    }
   ],
   "source": [
    "df.plot(x='popularity', y='vote_count', kind='scatter', title='vote_counts vs popularity');"
   ]
  },
  {
   "cell_type": "markdown",
   "metadata": {},
   "source": [
    "from the plot above we can see a positive correlation between vote counts and popularity, hence the more people voted a movie the more its popularity rating increased"
   ]
  },
  {
   "cell_type": "code",
   "execution_count": 31,
   "metadata": {},
   "outputs": [
    {
     "data": {
      "text/html": [
       "<div>\n",
       "<style scoped>\n",
       "    .dataframe tbody tr th:only-of-type {\n",
       "        vertical-align: middle;\n",
       "    }\n",
       "\n",
       "    .dataframe tbody tr th {\n",
       "        vertical-align: top;\n",
       "    }\n",
       "\n",
       "    .dataframe thead th {\n",
       "        text-align: right;\n",
       "    }\n",
       "</style>\n",
       "<table border=\"1\" class=\"dataframe\">\n",
       "  <thead>\n",
       "    <tr style=\"text-align: right;\">\n",
       "      <th></th>\n",
       "      <th>imdb_id</th>\n",
       "      <th>popularity</th>\n",
       "      <th>budget</th>\n",
       "      <th>revenue</th>\n",
       "      <th>original_title</th>\n",
       "      <th>cast</th>\n",
       "      <th>director</th>\n",
       "      <th>runtime</th>\n",
       "      <th>genres</th>\n",
       "      <th>production_companies</th>\n",
       "      <th>release_date</th>\n",
       "      <th>vote_count</th>\n",
       "      <th>vote_average</th>\n",
       "      <th>release_year</th>\n",
       "      <th>budget_adj</th>\n",
       "      <th>revenue_adj</th>\n",
       "      <th>popularity_groupings</th>\n",
       "      <th>movie_length</th>\n",
       "      <th>profit</th>\n",
       "    </tr>\n",
       "  </thead>\n",
       "  <tbody>\n",
       "    <tr>\n",
       "      <td>1919</td>\n",
       "      <td>tt1375666</td>\n",
       "      <td>9.363643</td>\n",
       "      <td>160000000</td>\n",
       "      <td>825500000</td>\n",
       "      <td>Inception</td>\n",
       "      <td>Leonardo DiCaprio|Joseph Gordon-Levitt|Ellen P...</td>\n",
       "      <td>Christopher Nolan</td>\n",
       "      <td>148</td>\n",
       "      <td>Action|Thriller|Science Fiction|Mystery|Adventure</td>\n",
       "      <td>Legendary Pictures|Warner Bros.|Syncopy</td>\n",
       "      <td>2010-07-14</td>\n",
       "      <td>9767</td>\n",
       "      <td>7.9</td>\n",
       "      <td>2010</td>\n",
       "      <td>160000000.0</td>\n",
       "      <td>825500000.0</td>\n",
       "      <td>very popular</td>\n",
       "      <td>standard length</td>\n",
       "      <td>665500000</td>\n",
       "    </tr>\n",
       "  </tbody>\n",
       "</table>\n",
       "</div>"
      ],
      "text/plain": [
       "        imdb_id  popularity     budget    revenue original_title  \\\n",
       "1919  tt1375666    9.363643  160000000  825500000      Inception   \n",
       "\n",
       "                                                   cast           director  \\\n",
       "1919  Leonardo DiCaprio|Joseph Gordon-Levitt|Ellen P...  Christopher Nolan   \n",
       "\n",
       "      runtime                                             genres  \\\n",
       "1919      148  Action|Thriller|Science Fiction|Mystery|Adventure   \n",
       "\n",
       "                         production_companies release_date  vote_count  \\\n",
       "1919  Legendary Pictures|Warner Bros.|Syncopy   2010-07-14        9767   \n",
       "\n",
       "      vote_average  release_year   budget_adj  revenue_adj  \\\n",
       "1919           7.9          2010  160000000.0  825500000.0   \n",
       "\n",
       "     popularity_groupings     movie_length     profit  \n",
       "1919         very popular  standard length  665500000  "
      ]
     },
     "execution_count": 31,
     "metadata": {},
     "output_type": "execute_result"
    }
   ],
   "source": [
    "df_c = df.query('vote_count>9000')\n",
    "df_c"
   ]
  },
  {
   "cell_type": "markdown",
   "metadata": {},
   "source": [
    "the movie with the most votes was <strong>Inception</strong> with a popularity of 9.36 aproximately"
   ]
  },
  {
   "cell_type": "code",
   "execution_count": 32,
   "metadata": {},
   "outputs": [
    {
     "data": {
      "text/html": [
       "<div>\n",
       "<style scoped>\n",
       "    .dataframe tbody tr th:only-of-type {\n",
       "        vertical-align: middle;\n",
       "    }\n",
       "\n",
       "    .dataframe tbody tr th {\n",
       "        vertical-align: top;\n",
       "    }\n",
       "\n",
       "    .dataframe thead th {\n",
       "        text-align: right;\n",
       "    }\n",
       "</style>\n",
       "<table border=\"1\" class=\"dataframe\">\n",
       "  <thead>\n",
       "    <tr style=\"text-align: right;\">\n",
       "      <th></th>\n",
       "      <th>imdb_id</th>\n",
       "      <th>popularity</th>\n",
       "      <th>budget</th>\n",
       "      <th>revenue</th>\n",
       "      <th>original_title</th>\n",
       "      <th>cast</th>\n",
       "      <th>director</th>\n",
       "      <th>runtime</th>\n",
       "      <th>genres</th>\n",
       "      <th>production_companies</th>\n",
       "      <th>release_date</th>\n",
       "      <th>vote_count</th>\n",
       "      <th>vote_average</th>\n",
       "      <th>release_year</th>\n",
       "      <th>budget_adj</th>\n",
       "      <th>revenue_adj</th>\n",
       "      <th>popularity_groupings</th>\n",
       "      <th>movie_length</th>\n",
       "      <th>profit</th>\n",
       "    </tr>\n",
       "  </thead>\n",
       "  <tbody>\n",
       "    <tr>\n",
       "      <td>1919</td>\n",
       "      <td>tt1375666</td>\n",
       "      <td>9.363643</td>\n",
       "      <td>160000000</td>\n",
       "      <td>825500000</td>\n",
       "      <td>Inception</td>\n",
       "      <td>Leonardo DiCaprio|Joseph Gordon-Levitt|Ellen P...</td>\n",
       "      <td>Christopher Nolan</td>\n",
       "      <td>148</td>\n",
       "      <td>Action|Thriller|Science Fiction|Mystery|Adventure</td>\n",
       "      <td>Legendary Pictures|Warner Bros.|Syncopy</td>\n",
       "      <td>2010-07-14</td>\n",
       "      <td>9767</td>\n",
       "      <td>7.9</td>\n",
       "      <td>2010</td>\n",
       "      <td>1.600000e+08</td>\n",
       "      <td>8.255000e+08</td>\n",
       "      <td>very popular</td>\n",
       "      <td>standard length</td>\n",
       "      <td>665500000</td>\n",
       "    </tr>\n",
       "    <tr>\n",
       "      <td>4361</td>\n",
       "      <td>tt0848228</td>\n",
       "      <td>7.637767</td>\n",
       "      <td>220000000</td>\n",
       "      <td>1519557910</td>\n",
       "      <td>The Avengers</td>\n",
       "      <td>Robert Downey Jr.|Chris Evans|Mark Ruffalo|Chr...</td>\n",
       "      <td>Joss Whedon</td>\n",
       "      <td>143</td>\n",
       "      <td>Science Fiction|Action|Adventure</td>\n",
       "      <td>Marvel Studios</td>\n",
       "      <td>2012-04-25</td>\n",
       "      <td>8903</td>\n",
       "      <td>7.3</td>\n",
       "      <td>2012</td>\n",
       "      <td>2.089437e+08</td>\n",
       "      <td>1.443191e+09</td>\n",
       "      <td>very popular</td>\n",
       "      <td>standard length</td>\n",
       "      <td>1299557910</td>\n",
       "    </tr>\n",
       "    <tr>\n",
       "      <td>1386</td>\n",
       "      <td>tt0499549</td>\n",
       "      <td>9.432768</td>\n",
       "      <td>237000000</td>\n",
       "      <td>2781505847</td>\n",
       "      <td>Avatar</td>\n",
       "      <td>Sam Worthington|Zoe Saldana|Sigourney Weaver|S...</td>\n",
       "      <td>James Cameron</td>\n",
       "      <td>162</td>\n",
       "      <td>Action|Adventure|Fantasy|Science Fiction</td>\n",
       "      <td>Ingenious Film Partners|Twentieth Century Fox ...</td>\n",
       "      <td>2009-12-10</td>\n",
       "      <td>8458</td>\n",
       "      <td>7.1</td>\n",
       "      <td>2009</td>\n",
       "      <td>2.408869e+08</td>\n",
       "      <td>2.827124e+09</td>\n",
       "      <td>very popular</td>\n",
       "      <td>standard length</td>\n",
       "      <td>2544505847</td>\n",
       "    </tr>\n",
       "    <tr>\n",
       "      <td>2875</td>\n",
       "      <td>tt0468569</td>\n",
       "      <td>8.466668</td>\n",
       "      <td>185000000</td>\n",
       "      <td>1001921825</td>\n",
       "      <td>The Dark Knight</td>\n",
       "      <td>Christian Bale|Michael Caine|Heath Ledger|Aaro...</td>\n",
       "      <td>Christopher Nolan</td>\n",
       "      <td>152</td>\n",
       "      <td>Drama|Action|Crime|Thriller</td>\n",
       "      <td>DC Comics|Legendary Pictures|Warner Bros.|Syncopy</td>\n",
       "      <td>2008-07-16</td>\n",
       "      <td>8432</td>\n",
       "      <td>8.1</td>\n",
       "      <td>2008</td>\n",
       "      <td>1.873655e+08</td>\n",
       "      <td>1.014733e+09</td>\n",
       "      <td>very popular</td>\n",
       "      <td>standard length</td>\n",
       "      <td>816921825</td>\n",
       "    </tr>\n",
       "    <tr>\n",
       "      <td>4364</td>\n",
       "      <td>tt1853728</td>\n",
       "      <td>5.944518</td>\n",
       "      <td>100000000</td>\n",
       "      <td>425368238</td>\n",
       "      <td>Django Unchained</td>\n",
       "      <td>Jamie Foxx|Christoph Waltz|Leonardo DiCaprio|K...</td>\n",
       "      <td>Quentin Tarantino</td>\n",
       "      <td>165</td>\n",
       "      <td>Drama|Western</td>\n",
       "      <td>Columbia Pictures|The Weinstein Company</td>\n",
       "      <td>2012-12-25</td>\n",
       "      <td>7375</td>\n",
       "      <td>7.7</td>\n",
       "      <td>2012</td>\n",
       "      <td>9.497443e+07</td>\n",
       "      <td>4.039911e+08</td>\n",
       "      <td>very popular</td>\n",
       "      <td>standard length</td>\n",
       "      <td>325368238</td>\n",
       "    </tr>\n",
       "  </tbody>\n",
       "</table>\n",
       "</div>"
      ],
      "text/plain": [
       "        imdb_id  popularity     budget     revenue    original_title  \\\n",
       "1919  tt1375666    9.363643  160000000   825500000         Inception   \n",
       "4361  tt0848228    7.637767  220000000  1519557910      The Avengers   \n",
       "1386  tt0499549    9.432768  237000000  2781505847            Avatar   \n",
       "2875  tt0468569    8.466668  185000000  1001921825   The Dark Knight   \n",
       "4364  tt1853728    5.944518  100000000   425368238  Django Unchained   \n",
       "\n",
       "                                                   cast           director  \\\n",
       "1919  Leonardo DiCaprio|Joseph Gordon-Levitt|Ellen P...  Christopher Nolan   \n",
       "4361  Robert Downey Jr.|Chris Evans|Mark Ruffalo|Chr...        Joss Whedon   \n",
       "1386  Sam Worthington|Zoe Saldana|Sigourney Weaver|S...      James Cameron   \n",
       "2875  Christian Bale|Michael Caine|Heath Ledger|Aaro...  Christopher Nolan   \n",
       "4364  Jamie Foxx|Christoph Waltz|Leonardo DiCaprio|K...  Quentin Tarantino   \n",
       "\n",
       "      runtime                                             genres  \\\n",
       "1919      148  Action|Thriller|Science Fiction|Mystery|Adventure   \n",
       "4361      143                   Science Fiction|Action|Adventure   \n",
       "1386      162           Action|Adventure|Fantasy|Science Fiction   \n",
       "2875      152                        Drama|Action|Crime|Thriller   \n",
       "4364      165                                      Drama|Western   \n",
       "\n",
       "                                   production_companies release_date  \\\n",
       "1919            Legendary Pictures|Warner Bros.|Syncopy   2010-07-14   \n",
       "4361                                     Marvel Studios   2012-04-25   \n",
       "1386  Ingenious Film Partners|Twentieth Century Fox ...   2009-12-10   \n",
       "2875  DC Comics|Legendary Pictures|Warner Bros.|Syncopy   2008-07-16   \n",
       "4364            Columbia Pictures|The Weinstein Company   2012-12-25   \n",
       "\n",
       "      vote_count  vote_average  release_year    budget_adj   revenue_adj  \\\n",
       "1919        9767           7.9          2010  1.600000e+08  8.255000e+08   \n",
       "4361        8903           7.3          2012  2.089437e+08  1.443191e+09   \n",
       "1386        8458           7.1          2009  2.408869e+08  2.827124e+09   \n",
       "2875        8432           8.1          2008  1.873655e+08  1.014733e+09   \n",
       "4364        7375           7.7          2012  9.497443e+07  4.039911e+08   \n",
       "\n",
       "     popularity_groupings     movie_length      profit  \n",
       "1919         very popular  standard length   665500000  \n",
       "4361         very popular  standard length  1299557910  \n",
       "1386         very popular  standard length  2544505847  \n",
       "2875         very popular  standard length   816921825  \n",
       "4364         very popular  standard length   325368238  "
      ]
     },
     "execution_count": 32,
     "metadata": {},
     "output_type": "execute_result"
    }
   ],
   "source": [
    "df_vote = df.sort_values('vote_count', ascending=False).head(100)\n",
    "df_vote.head()"
   ]
  },
  {
   "cell_type": "markdown",
   "metadata": {},
   "source": [
    "creating a dataframe containing movies with the top 100 votes"
   ]
  },
  {
   "cell_type": "code",
   "execution_count": 33,
   "metadata": {},
   "outputs": [
    {
     "data": {
      "image/png": "[encoded data removed]",
      "text/plain": [
       "<Figure size 432x288 with 1 Axes>"
      ]
     },
     "metadata": {
      "needs_background": "light"
     },
     "output_type": "display_data"
    }
   ],
   "source": [
    "df_vote.plot(x='vote_count', y='profit', kind='scatter', title='Profit against vote count for top 100 vote counts');\n"
   ]
  },
  {
   "cell_type": "markdown",
   "metadata": {},
   "source": [
    "From this plot we can see that there is a positive correlation between voting and profit, and the movies with thr highest profit has one of the highest vote counts"
   ]
  },
  {
   "cell_type": "code",
   "execution_count": 34,
   "metadata": {},
   "outputs": [
    {
     "data": {
      "image/png": "[encoded data removed]",
      "text/plain": [
       "<Figure size 432x288 with 1 Axes>"
      ]
     },
     "metadata": {
      "needs_background": "light"
     },
     "output_type": "display_data"
    }
   ],
   "source": [
    "df_vote.head(20).plot(x='vote_count', y='popularity', kind='bar', title='popularity against vote counts');\n",
    "plt.ylabel('popularity');\n",
    "plt.grid(True)"
   ]
  },
  {
   "cell_type": "markdown",
   "metadata": {},
   "source": [
    "from this bar chart we can see that the movies with the highest votes were the some of the most popular"
   ]
  },
  {
   "cell_type": "markdown",
   "metadata": {},
   "source": [
    "<a id='conclusions'></a>\n",
    "## Conclusions\n",
    "From the analysis abpve the questions posed have being answered, which are:\n",
    "<ul>\n",
    "    <li>the genre <strong>drama</strong> the most movies the years</li>\n",
    "    <li>the number of unique actors that all acted in our analyzed clean data movies are 17,121 actors, with the actor with the most movies being Robert De Niro with 72 movies</li>\n",
    "    <li>which movies made the most revenue and how popular were they</li>\n",
    "    <li>movies with runtime between 100 minutes and 180 minutes were the most popular</li>\n",
    "    <li>the more popular a movie was the more, the more profit it turned up\n",
    "    <li>there are some movies with 0 budget did they turn up a profit and did any movie at all turn up a loss</li>\n",
    "    <li>also the more people voted on a movie which went ahead to record a large profit and high popularity</li>\n",
    "</ul>\n"
   ]
  },
  {
   "cell_type": "markdown",
   "metadata": {},
   "source": [
    "while carrying out my analysis, i made use of some resources and codes. some of which are form the following sites:\n",
    "<ul>\n",
    "    <li>geeksforgeeks.org</li>\n",
    "    <li>medium.com</li>\n",
    "    <li>codingnomads.co</li>\n",
    "    <li>analyticsvidhya.com</li>\n",
    "    <li>stackoverflow.com</li>"
   ]
  },
  {
   "cell_type": "markdown",
   "metadata": {},
   "source": [
    "### Limitations\n",
    "During the analysis i was not able to use the cast dolumn as the values were all too unique.\n",
    "the vote_average column was not used at all as i could not understand the meaning behind the data\n",
    "correlation between the vote counts and the popularity are ambiguous as the popularity is based on the voting not how many people were actually aware of the movie"
   ]
  }
 ],
 "metadata": {
  "kernelspec": {
   "display_name": "Python 3",
   "language": "python",
   "name": "python3"
  },
  "language_info": {
   "codemirror_mode": {
    "name": "ipython",
    "version": 3
   },
   "file_extension": ".py",
   "mimetype": "text/x-python",
   "name": "python",
   "nbconvert_exporter": "python",
   "pygments_lexer": "ipython3",
   "version": "3.7.4"
  }
 },
 "nbformat": 4,
 "nbformat_minor": 2
}
